{
 "cells": [
  {
   "cell_type": "markdown",
   "metadata": {},
   "source": [
    "# Exercice 1"
   ]
  },
  {
   "cell_type": "markdown",
   "metadata": {},
   "source": [
    "## Question 1\n"
   ]
  },
  {
   "cell_type": "code",
   "execution_count": 5,
   "metadata": {},
   "outputs": [],
   "source": [
    "import projet as p\n",
    "\n"
   ]
  },
  {
   "cell_type": "markdown",
   "metadata": {},
   "source": [
    "\n",
    "Exemple d'utilisation"
   ]
  },
  {
   "cell_type": "code",
   "execution_count": 6,
   "metadata": {},
   "outputs": [
    {
     "name": "stdout",
     "output_type": "stream",
     "text": [
      "Joueur courant: 1\n",
      "Coups possibles: [1, 2, 3]\n",
      "Evaluation pour Joueur 1: 0\n",
      "Nouvelle configuration après avoir joué le coup 2 : {'joueur': 2, 'prochainJoueur': 1, 'historique_coups': [2], 'coups_possibles': [1, 2, 3], 'evaluation_joueur1': 0, 'est_fini': False}\n",
      "Est-ce que la nouvelle configuration est finale ? False\n"
     ]
    }
   ],
   "source": [
    "\n",
    "# Initialisation de la configuration\n",
    "config_initiale = {'joueur': 1, 'prochainJoueur' : 2, 'historique_coups': [], 'coups_possibles': [1, 2, 3], 'evaluation_joueur1': 0, 'est_fini': False}\n",
    "\n",
    "# Création de l'instance de jeu\n",
    "jeu = p.JeuSequentiel()\n",
    "\n",
    "# Exemple d'appel des méthodes\n",
    "print(\"Joueur courant:\", jeu.joueurCourant(config_initiale))\n",
    "print(\"Coups possibles:\", jeu.coupsPossibles(config_initiale))\n",
    "print(\"Evaluation pour Joueur 1:\", jeu.f1(config_initiale))\n",
    "\n",
    "# Simulation de jouer un coup\n",
    "nouvelle_config = {}\n",
    "coup_joue = 2\n",
    "nouvelle_config = jeu.joueLeCoup(config_initiale, coup_joue)\n",
    "\n",
    "print(\"Nouvelle configuration après avoir joué le coup\", coup_joue, \":\", nouvelle_config)\n",
    "print(\"Est-ce que la nouvelle configuration est finale ?\", jeu.estFini(nouvelle_config))"
   ]
  },
  {
   "cell_type": "markdown",
   "metadata": {},
   "source": [
    "\n",
    "Exemple d'utilisation"
   ]
  },
  {
   "cell_type": "code",
   "execution_count": 13,
   "metadata": {},
   "outputs": [
    {
     "name": "stdout",
     "output_type": "stream",
     "text": [
      "Configuration initiale du Morpion: {'plateau': [[' ', ' ', ' '], [' ', ' ', ' '], [' ', ' ', ' ']], 'prochain_joueur': 'J1', 'est_fini': False}\n",
      "C'est au tour de J1\n",
      "Nouvelle configuration après avoir joué le coup (0, 0) : {'plateau': [['J1', ' ', ' '], [' ', ' ', ' '], [' ', ' ', ' ']], 'prochain_joueur': 'J2', 'est_fini': False}\n",
      "Est-ce que la nouvelle configuration est finale ? False\n",
      "Nouvelle configuration après avoir joué le coup (1, 1) : {'plateau': [['J1', ' ', ' '], [' ', 'J2', ' '], [' ', ' ', ' ']], 'prochain_joueur': 'J1', 'est_fini': False}\n",
      "Est-ce que la nouvelle configuration est finale ? False\n",
      "Nouvelle configuration après avoir joué le coup (1, 0) : {'plateau': [['J1', ' ', ' '], ['J1', 'J2', ' '], [' ', ' ', ' ']], 'prochain_joueur': 'J2', 'est_fini': False}\n",
      "Est-ce que la nouvelle configuration est finale ? False\n",
      "Nouvelle configuration après avoir joué le coup (2, 1) : {'plateau': [['J1', ' ', ' '], ['J1', 'J2', ' '], [' ', 'J2', ' ']], 'prochain_joueur': 'J1', 'est_fini': False}\n",
      "Est-ce que la nouvelle configuration est finale ? False\n",
      "Nouvelle configuration après avoir joué le coup (2, 0) : {'plateau': [['J1', ' ', ' '], ['J1', 'J2', ' '], ['J1', 'J2', ' ']], 'prochain_joueur': 'J2', 'est_fini': True}\n",
      "Est-ce que la nouvelle configuration est finale ? True\n"
     ]
    }
   ],
   "source": [
    "# Création d'une instance de jeu de Morpion\n",
    "morpion = p.Morpion()\n",
    "# Configuration initiale\n",
    "config_initiale = {\n",
    "    'plateau': [[' ', ' ', ' '], [' ', ' ', ' '], [' ', ' ', ' ']],\n",
    "    'prochain_joueur': 'J1',\n",
    "    'est_fini': False\n",
    "}\n",
    "print(\"Configuration initiale du Morpion:\", config_initiale)\n",
    "\n",
    "print(\"C'est au tour de\", morpion.joueurCourant(config_initiale));\n",
    "\n",
    "# Exemple d'appel des méthodes pour jouer un coup\n",
    "coup_joue = (0, 0)\n",
    "nouvelle_config = morpion.joueLeCoup(config_initiale, coup_joue)\n",
    "\n",
    "print(\"Nouvelle configuration après avoir joué le coup\", coup_joue, \":\", nouvelle_config)\n",
    "print(\"Est-ce que la nouvelle configuration est finale ?\", morpion.estFini(nouvelle_config))\n",
    "\n",
    "\n",
    "coup_joue = (1, 1)\n",
    "nouvelle_config = morpion.joueLeCoup(nouvelle_config, coup_joue)\n",
    "\n",
    "print(\"Nouvelle configuration après avoir joué le coup\", coup_joue, \":\", nouvelle_config1)\n",
    "print(\"Est-ce que la nouvelle configuration est finale ?\", morpion.estFini(nouvelle_config1))\n",
    "\n",
    "coup_joue = (1, 0)\n",
    "nouvelle_config = morpion.joueLeCoup(config_initiale, coup_joue)\n",
    "\n",
    "print(\"Nouvelle configuration après avoir joué le coup\", coup_joue, \":\", nouvelle_config)\n",
    "print(\"Est-ce que la nouvelle configuration est finale ?\", morpion.estFini(nouvelle_config))\n",
    "\n",
    "\n",
    "coup_joue = (2, 1)\n",
    "nouvelle_config = morpion.joueLeCoup(nouvelle_config, coup_joue)\n",
    "\n",
    "print(\"Nouvelle configuration après avoir joué le coup\", coup_joue, \":\", nouvelle_config)\n",
    "print(\"Est-ce que la nouvelle configuration est finale ?\", morpion.estFini(nouvelle_config))\n",
    "\n",
    "coup_joue = (2, 0)\n",
    "nouvelle_config = morpion.joueLeCoup(config_initiale, coup_joue)\n",
    "\n",
    "print(\"Nouvelle configuration après avoir joué le coup\", coup_joue, \":\", nouvelle_config)\n",
    "print(\"Est-ce que la nouvelle configuration est finale ?\", morpion.estFini(nouvelle_config))\n"
   ]
  },
  {
   "cell_type": "code",
   "execution_count": null,
   "metadata": {},
   "outputs": [],
   "source": []
  }
 ],
 "metadata": {
  "kernelspec": {
   "display_name": "Python 3",
   "language": "python",
   "name": "python3"
  },
  "language_info": {
   "codemirror_mode": {
    "name": "ipython",
    "version": 3
   },
   "file_extension": ".py",
   "mimetype": "text/x-python",
   "name": "python",
   "nbconvert_exporter": "python",
   "pygments_lexer": "ipython3",
   "version": "3.11.9"
  }
 },
 "nbformat": 4,
 "nbformat_minor": 2
}
