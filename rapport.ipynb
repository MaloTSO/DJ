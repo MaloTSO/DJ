{
 "cells": [
  {
   "cell_type": "markdown",
   "metadata": {},
   "source": [
    "# Exercice 1"
   ]
  },
  {
   "cell_type": "markdown",
   "metadata": {},
   "source": [
    "## Question 2\n"
   ]
  },
  {
   "cell_type": "code",
   "execution_count": 2,
   "metadata": {},
   "outputs": [],
   "source": [
    "import projet as p\n",
    "import copy\n",
    "import random\n",
    "import time\n",
    "import numpy as np"
   ]
  },
  {
   "cell_type": "code",
   "execution_count": 3,
   "metadata": {},
   "outputs": [
    {
     "name": "stdout",
     "output_type": "stream",
     "text": [
      "Configuration initiale du Morpion: {'plateau': [[' ', ' ', ' '], [' ', ' ', ' '], [' ', ' ', ' ']], 'prochain_joueur': 'J1', 'est_fini': False}\n",
      "C'est au tour de J1\n",
      "Nouvelle configuration après avoir joué le coup (0, 0) : {'plateau': [['X', ' ', ' '], [' ', ' ', ' '], [' ', ' ', ' ']], 'prochain_joueur': 'J2', 'est_fini': False}\n",
      "Est-ce que la nouvelle configuration est finale ? False\n",
      "Nouvelle configuration après avoir joué le coup (1, 1) : {'plateau': [['X', ' ', ' '], [' ', 'O', ' '], [' ', ' ', ' ']], 'prochain_joueur': 'J1', 'est_fini': False}\n",
      "Est-ce que la nouvelle configuration est finale ? False\n",
      "Nouvelle configuration après avoir joué le coup (1, 0) : {'plateau': [['X', ' ', ' '], ['X', 'O', ' '], [' ', ' ', ' ']], 'prochain_joueur': 'J2', 'est_fini': False}\n",
      "Est-ce que la nouvelle configuration est finale ? False\n",
      "Nouvelle configuration après avoir joué le coup (2, 1) : {'plateau': [['X', ' ', ' '], ['X', 'O', ' '], [' ', 'O', ' ']], 'prochain_joueur': 'J1', 'est_fini': False}\n",
      "Est-ce que la nouvelle configuration est finale ? False\n",
      "Nouvelle configuration après avoir joué le coup (2, 0) : {'plateau': [['X', ' ', ' '], ['X', 'O', ' '], ['X', 'O', ' ']], 'prochain_joueur': 'J1', 'est_fini': True}\n",
      "Est-ce que la nouvelle configuration est finale ? True\n"
     ]
    }
   ],
   "source": [
    "# Création d'une instance de jeu de Morpion\n",
    "morpion = p.Morpion()\n",
    "# Configuration initiale\n",
    "config_initiale = {\n",
    "    'plateau': [[' ', ' ', ' '],[' ', ' ', ' '],[' ', ' ', ' ']],\n",
    "    'prochain_joueur': 'J1',\n",
    "    'est_fini': False\n",
    "}\n",
    "print(\"Configuration initiale du Morpion:\", config_initiale)\n",
    "\n",
    "print(\"C'est au tour de\", morpion.joueurCourant(config_initiale))\n",
    "\n",
    "\n",
    "#coup 1\n",
    "coup_joue = (0, 0)\n",
    "nouvelle_config = morpion.joueLeCoup(config_initiale, coup_joue)\n",
    "\n",
    "print(\"Nouvelle configuration après avoir joué le coup\", coup_joue, \":\", nouvelle_config)\n",
    "print(\"Est-ce que la nouvelle configuration est finale ?\", morpion.estFini(nouvelle_config))\n",
    "\n",
    "#coup 2\n",
    "coup_joue = (1, 1)\n",
    "nouvelle_config = morpion.joueLeCoup(nouvelle_config, coup_joue)\n",
    "\n",
    "print(\"Nouvelle configuration après avoir joué le coup\", coup_joue, \":\", nouvelle_config)\n",
    "print(\"Est-ce que la nouvelle configuration est finale ?\", morpion.estFini(nouvelle_config))\n",
    "\n",
    "#coup 3\n",
    "coup_joue = (1, 0)\n",
    "nouvelle_config = morpion.joueLeCoup(config_initiale, coup_joue)\n",
    "\n",
    "print(\"Nouvelle configuration après avoir joué le coup\", coup_joue, \":\", nouvelle_config)\n",
    "print(\"Est-ce que la nouvelle configuration est finale ?\", morpion.estFini(nouvelle_config))\n",
    "\n",
    "#Coup 4\n",
    "coup_joue = (2, 1)\n",
    "nouvelle_config = morpion.joueLeCoup(nouvelle_config, coup_joue)\n",
    "\n",
    "print(\"Nouvelle configuration après avoir joué le coup\", coup_joue, \":\", nouvelle_config)\n",
    "print(\"Est-ce que la nouvelle configuration est finale ?\", morpion.estFini(nouvelle_config))\n",
    "\n",
    "#Coup 5\n",
    "coup_joue = (2, 0)\n",
    "nouvelle_config = morpion.joueLeCoup(config_initiale, coup_joue)\n",
    "\n",
    "print(\"Nouvelle configuration après avoir joué le coup\", coup_joue, \":\", nouvelle_config)\n",
    "print(\"Est-ce que la nouvelle configuration est finale ?\", morpion.estFini(nouvelle_config))\n"
   ]
  },
  {
   "cell_type": "code",
   "execution_count": 4,
   "metadata": {},
   "outputs": [
    {
     "name": "stdout",
     "output_type": "stream",
     "text": [
      "Le joueur J1 joue les X\n",
      "Le joueur J2 joue les O\n",
      "\n",
      " [' ', 'X', ' '] \n",
      " [' ', ' ', ' '] \n",
      " [' ', ' ', ' '] \n",
      "\n",
      "\n",
      " [' ', 'X', ' '] \n",
      " ['O', ' ', ' '] \n",
      " [' ', ' ', ' '] \n",
      "\n",
      "\n",
      " [' ', 'X', ' '] \n",
      " ['O', ' ', ' '] \n",
      " [' ', 'X', ' '] \n",
      "\n",
      "\n",
      " [' ', 'X', ' '] \n",
      " ['O', 'O', ' '] \n",
      " [' ', 'X', ' '] \n",
      "\n",
      "\n",
      " [' ', 'X', ' '] \n",
      " ['O', 'O', 'X'] \n",
      " [' ', 'X', ' '] \n",
      "\n",
      "\n",
      " [' ', 'X', ' '] \n",
      " ['O', 'O', 'X'] \n",
      " ['O', 'X', ' '] \n",
      "\n",
      "\n",
      " [' ', 'X', ' '] \n",
      " ['O', 'O', 'X'] \n",
      " ['O', 'X', 'X'] \n",
      "\n",
      "\n",
      " ['O', 'X', ' '] \n",
      " ['O', 'O', 'X'] \n",
      " ['O', 'X', 'X'] \n",
      "\n",
      "J2 a gagné\n"
     ]
    }
   ],
   "source": [
    "res = p.morpionAleatoire()\n",
    "print(\"J1 a gagné\" if res == 'J1' else \"J2 a gagné\")"
   ]
  },
  {
   "cell_type": "markdown",
   "metadata": {},
   "source": [
    "# Exercice 3"
   ]
  },
  {
   "cell_type": "code",
   "execution_count": 5,
   "metadata": {},
   "outputs": [
    {
     "name": "stdout",
     "output_type": "stream",
     "text": [
      "Le joueur J1 joue les X\n",
      "Le joueur J2 joue les O\n",
      "\n",
      " [' ', ' ', ' '] \n",
      " [' ', 'X', ' '] \n",
      " [' ', ' ', ' '] \n",
      "\n",
      "\n",
      " [' ', ' ', ' '] \n",
      " ['O', 'X', ' '] \n",
      " [' ', ' ', ' '] \n",
      "\n",
      "\n",
      " [' ', ' ', ' '] \n",
      " ['O', 'X', ' '] \n",
      " [' ', ' ', 'X'] \n",
      "\n",
      "\n",
      " [' ', ' ', ' '] \n",
      " ['O', 'X', 'O'] \n",
      " [' ', ' ', 'X'] \n",
      "\n",
      "\n",
      " [' ', ' ', ' '] \n",
      " ['O', 'X', 'O'] \n",
      " ['X', ' ', 'X'] \n",
      "\n",
      "\n",
      " [' ', ' ', ' '] \n",
      " ['O', 'X', 'O'] \n",
      " ['X', 'O', 'X'] \n",
      "\n",
      "\n",
      " [' ', ' ', 'X'] \n",
      " ['O', 'X', 'O'] \n",
      " ['X', 'O', 'X'] \n",
      "\n",
      "J1 a gagné\n"
     ]
    }
   ],
   "source": [
    "res = p.morpionMinMax()\n",
    "print(\"J1 a gagné\" if res == 'J1' else \"J2 a gagné\")"
   ]
  },
  {
   "cell_type": "markdown",
   "metadata": {},
   "source": [
    "# Exercice 4"
   ]
  },
  {
   "cell_type": "code",
   "execution_count": 6,
   "metadata": {},
   "outputs": [
    {
     "name": "stdout",
     "output_type": "stream",
     "text": [
      "Configuration initiale du Allumettes: {'plateau': {'G1': 5, 'G2': 5, 'G3': 5}, 'prochain_joueur': 'J1', 'est_fini': False}\n",
      "C'est au tour de J1\n",
      "Nouvelle configuration après avoir joué le coup ('G1', 3) : {'plateau': {'G1': 2, 'G2': 5, 'G3': 5}, 'prochain_joueur': 'J2', 'est_fini': False}\n",
      "Est-ce que la nouvelle configuration est finale ? False\n",
      "Nouvelle configuration après avoir joué le coup ('G1', 2) : {'plateau': {'G1': 0, 'G2': 5, 'G3': 5}, 'prochain_joueur': 'J1', 'est_fini': False}\n",
      "Est-ce que la nouvelle configuration est finale ? False\n",
      "Nouvelle configuration après avoir joué le coup ('G2', 4) : {'plateau': {'G1': 0, 'G2': 1, 'G3': 5}, 'prochain_joueur': 'J2', 'est_fini': False}\n",
      "Est-ce que la nouvelle configuration est finale ? False\n",
      "Nouvelle configuration après avoir joué le coup ('G3', 3) : {'plateau': {'G1': 0, 'G2': 1, 'G3': 2}, 'prochain_joueur': 'J1', 'est_fini': False}\n",
      "Est-ce que la nouvelle configuration est finale ? False\n",
      "Nouvelle configuration après avoir joué le coup ('G3', 2) : {'plateau': {'G1': 0, 'G2': 1, 'G3': 0}, 'prochain_joueur': 'J2', 'est_fini': False}\n",
      "Est-ce que la nouvelle configuration est finale ? False\n",
      "Nouvelle configuration après avoir joué le coup ('G2', 1) : {'plateau': {'G1': 0, 'G2': 0, 'G3': 0}, 'prochain_joueur': 'J2', 'est_fini': True}\n",
      "Est-ce que la nouvelle configuration est finale ? True\n"
     ]
    }
   ],
   "source": [
    "# Création d'une instance de jeu des Allumettes\n",
    "g=3\n",
    "m=5\n",
    "allumette = p.Allumettes(g,m)\n",
    "# Configuration initiale\n",
    "plat={}\n",
    "for i in range (g):\n",
    "    plat[\"G\"+str(i+1)]=m\n",
    "config_initiale = {\n",
    "    'plateau': plat,\n",
    "    'prochain_joueur': 'J1',\n",
    "    'est_fini': False\n",
    "}\n",
    "print(\"Configuration initiale du Allumettes:\", config_initiale)\n",
    "\n",
    "print(\"C'est au tour de\", allumette.joueurCourant(config_initiale))\n",
    "\n",
    "\n",
    "#coup 1\n",
    "coup_joue = (\"G1\", 3)\n",
    "nouvelle_config = allumette.joueLeCoup(config_initiale, coup_joue)\n",
    "\n",
    "print(\"Nouvelle configuration après avoir joué le coup\", coup_joue, \":\", nouvelle_config)\n",
    "print(\"Est-ce que la nouvelle configuration est finale ?\", allumette.estFini(nouvelle_config))\n",
    "\n",
    "#coup 2\n",
    "coup_joue = (\"G1\", 2)\n",
    "nouvelle_config = allumette.joueLeCoup(nouvelle_config, coup_joue)\n",
    "\n",
    "print(\"Nouvelle configuration après avoir joué le coup\", coup_joue, \":\", nouvelle_config)\n",
    "print(\"Est-ce que la nouvelle configuration est finale ?\", allumette.estFini(nouvelle_config))\n",
    "\n",
    "#coup 3\n",
    "coup_joue = (\"G2\", 4)\n",
    "nouvelle_config = allumette.joueLeCoup(nouvelle_config, coup_joue)\n",
    "\n",
    "print(\"Nouvelle configuration après avoir joué le coup\", coup_joue, \":\", nouvelle_config)\n",
    "print(\"Est-ce que la nouvelle configuration est finale ?\", allumette.estFini(nouvelle_config))\n",
    "\n",
    "#coup 4\n",
    "coup_joue = (\"G3\", 3)\n",
    "nouvelle_config = allumette.joueLeCoup(nouvelle_config, coup_joue)\n",
    "\n",
    "print(\"Nouvelle configuration après avoir joué le coup\", coup_joue, \":\", nouvelle_config)\n",
    "print(\"Est-ce que la nouvelle configuration est finale ?\", allumette.estFini(nouvelle_config))\n",
    "\n",
    "#coup 5\n",
    "coup_joue = (\"G3\", 2)\n",
    "nouvelle_config = allumette.joueLeCoup(nouvelle_config, coup_joue)\n",
    "\n",
    "print(\"Nouvelle configuration après avoir joué le coup\", coup_joue, \":\", nouvelle_config)\n",
    "print(\"Est-ce que la nouvelle configuration est finale ?\", allumette.estFini(nouvelle_config))\n",
    "\n",
    "#coup 6\n",
    "coup_joue = (\"G2\", 1)\n",
    "nouvelle_config = allumette.joueLeCoup(nouvelle_config, coup_joue)\n",
    "\n",
    "print(\"Nouvelle configuration après avoir joué le coup\", coup_joue, \":\", nouvelle_config)\n",
    "print(\"Est-ce que la nouvelle configuration est finale ?\", allumette.estFini(nouvelle_config))\n"
   ]
  },
  {
   "cell_type": "code",
   "execution_count": 7,
   "metadata": {},
   "outputs": [
    {
     "name": "stdout",
     "output_type": "stream",
     "text": [
      "{'G1': 0, 'G2': 5, 'G3': 5}\n",
      "{'G1': 0, 'G2': 2, 'G3': 5}\n",
      "{'G1': 0, 'G2': 2, 'G3': 2}\n",
      "{'G1': 0, 'G2': 1, 'G3': 2}\n",
      "{'G1': 0, 'G2': 1, 'G3': 1}\n",
      "{'G1': 0, 'G2': 0, 'G3': 1}\n",
      "{'G1': 0, 'G2': 0, 'G3': 0}\n",
      "J1 a gagné\n"
     ]
    }
   ],
   "source": [
    "res = p.Allumettes_Jeu_Nim(3,5)\n",
    "print(\"J1 a gagné\" if res == 'J1' else \"J2 a gagné\")"
   ]
  },
  {
   "cell_type": "markdown",
   "metadata": {},
   "source": [
    "# Exercice 5"
   ]
  },
  {
   "cell_type": "markdown",
   "metadata": {},
   "source": [
    "## TOURNOI"
   ]
  },
  {
   "cell_type": "markdown",
   "metadata": {},
   "source": [
    "\n",
    "L'exécution peut prendre quelques minutes"
   ]
  },
  {
   "cell_type": "code",
   "execution_count": 8,
   "metadata": {},
   "outputs": [
    {
     "name": "stdout",
     "output_type": "stream",
     "text": [
      "Tournoi Morpion:\n",
      "Le joueur J1 joue la stratégie aléatoire et le joueur J2 joue la stratégie MinMax\n",
      "Nombre victoire J1: 16\n",
      "Nombre victoire J2: 84\n",
      "Temps total d'execution: 1.8e+02\n",
      "Temps moyen d'execution: 1.8\n",
      "\n",
      "Tournoi Allumettes:\n",
      "Les deux joueurs joue la stratégie optimale des allumettes\n",
      "Nombre victoire J1: 100\n",
      "Nombre victoire J2: 0\n",
      "Temps total d'execution: 0.136\n",
      "Temps moyen d'execution: 0.00136\n",
      "\n",
      "Tournoi Allumettes:\n",
      "Le joueur J1 joue la stratégie optimale pour le jeu des allumettes et le joueur J2 joue la stratégie MinMax\n",
      "Nombre victoire J1: 100\n",
      "Nombre victoire J2: 0\n",
      "Temps total d'execution: 3.26\n",
      "Temps moyen d'execution: 0.0326\n",
      "\n",
      "Tournoi Allumettes:\n",
      "Le joueur J1 joue la stratégie optimale pour le jeu des allumettes et le joueur J2 joue la stratégie aléatoire\n",
      "Nombre victoire J1: 100\n",
      "Nombre victoire J2: 0\n",
      "Temps total d'execution: 0.0556\n",
      "Temps moyen d'execution: 0.000556\n"
     ]
    }
   ],
   "source": [
    "\n",
    "res1=p.tournoiMorpion(5)\n",
    "\n",
    "print(f\"Tournoi Morpion:\\nLe joueur J1 joue la stratégie aléatoire et le joueur J2 joue la stratégie MinMax\")\n",
    "print(f\"Nombre victoire J1: {res1[0]}\")\n",
    "print(f\"Nombre victoire J2: {res1[1]}\")\n",
    "print(f\"Temps total d'execution: {res1[2]:.03}\")\n",
    "print(f\"Temps moyen d'execution: {res1[3]:.03}\\n\")\n",
    "\n",
    "res2= p.tournoiAllumette(3,5)\n",
    "\n",
    "print(f\"Tournoi Allumettes:\\nLes deux joueurs joue la stratégie optimale des allumettes\")\n",
    "print(f\"Nombre victoire J1: {res2[0]}\")\n",
    "print(f\"Nombre victoire J2: {res2[1]}\")\n",
    "print(f\"Temps total d'execution: {res2[2]:.03}\")\n",
    "print(f\"Temps moyen d'execution: {res2[3]:.03}\\n\")\n",
    "\n",
    "res3= p.tournoiAllumette_MinMax(3,5,3)\n",
    "\n",
    "print(f\"Tournoi Allumettes:\\nLe joueur J1 joue la stratégie optimale pour le jeu des allumettes et le joueur J2 joue la stratégie MinMax\")\n",
    "print(f\"Nombre victoire J1: {res3[0]}\")\n",
    "print(f\"Nombre victoire J2: {res3[1]}\")\n",
    "print(f\"Temps total d'execution: {res3[2]:.03}\")\n",
    "print(f\"Temps moyen d'execution: {res3[3]:.03}\\n\")\n",
    "\n",
    "res4= p.tournoiAllumette_Ale(3,5)\n",
    "\n",
    "print(f\"Tournoi Allumettes:\\nLe joueur J1 joue la stratégie optimale pour le jeu des allumettes et le joueur J2 joue la stratégie aléatoire\")\n",
    "print(f\"Nombre victoire J1: {res4[0]}\")\n",
    "print(f\"Nombre victoire J2: {res4[1]}\")\n",
    "print(f\"Temps total d'execution: {res4[2]:.03}\")\n",
    "print(f\"Temps moyen d'execution: {res4[3]:.03}\")"
   ]
  }
 ],
 "metadata": {
  "kernelspec": {
   "display_name": "Python 3",
   "language": "python",
   "name": "python3"
  },
  "language_info": {
   "codemirror_mode": {
    "name": "ipython",
    "version": 3
   },
   "file_extension": ".py",
   "mimetype": "text/x-python",
   "name": "python",
   "nbconvert_exporter": "python",
   "pygments_lexer": "ipython3",
   "version": "3.11.9"
  }
 },
 "nbformat": 4,
 "nbformat_minor": 2
}
