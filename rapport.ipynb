{
 "cells": [
  {
   "cell_type": "markdown",
   "metadata": {},
   "source": [
    "# Exercice 1"
   ]
  },
  {
   "cell_type": "markdown",
   "metadata": {},
   "source": [
    "## Question 2\n"
   ]
  },
  {
   "cell_type": "code",
   "execution_count": 1,
   "metadata": {},
   "outputs": [],
   "source": [
    "import projet as p\n",
    "\n"
   ]
  },
  {
   "cell_type": "markdown",
   "metadata": {},
   "source": [
    "\n",
    "Exemple d'utilisation"
   ]
  },
  {
   "cell_type": "code",
   "execution_count": 5,
   "metadata": {},
   "outputs": [
    {
     "name": "stdout",
     "output_type": "stream",
     "text": [
      "Configuration initiale du Morpion: {'plateau': [[' ', ' ', ' '], [' ', ' ', ' '], [' ', ' ', ' ']], 'prochain_joueur': 'J1', 'est_fini': False}\n",
      "C'est au tour de J1\n",
      "Nouvelle configuration après avoir joué le coup (0, 0) : {'plateau': [['J1', ' ', ' '], [' ', ' ', ' '], [' ', ' ', ' ']], 'prochain_joueur': 'J2', 'est_fini': False}\n",
      "Est-ce que la nouvelle configuration est finale ? False\n",
      "Nouvelle configuration après avoir joué le coup (1, 1) : {'plateau': [['J1', ' ', ' '], [' ', 'J2', ' '], [' ', ' ', ' ']], 'prochain_joueur': 'J1', 'est_fini': False}\n",
      "Est-ce que la nouvelle configuration est finale ? False\n",
      "Nouvelle configuration après avoir joué le coup (1, 0) : {'plateau': [['J1', ' ', ' '], ['J1', 'J2', ' '], [' ', ' ', ' ']], 'prochain_joueur': 'J2', 'est_fini': False}\n",
      "Est-ce que la nouvelle configuration est finale ? False\n",
      "Nouvelle configuration après avoir joué le coup (2, 1) : {'plateau': [['J1', ' ', ' '], ['J1', 'J2', ' '], [' ', 'J2', ' ']], 'prochain_joueur': 'J1', 'est_fini': False}\n",
      "Est-ce que la nouvelle configuration est finale ? False\n",
      "Nouvelle configuration après avoir joué le coup (2, 0) : {'plateau': [['J1', ' ', ' '], ['J1', 'J2', ' '], ['J1', 'J2', ' ']], 'prochain_joueur': 'J2', 'est_fini': True}\n",
      "Est-ce que la nouvelle configuration est finale ? True\n"
     ]
    }
   ],
   "source": [
    "# Création d'une instance de jeu de Morpion\n",
    "morpion = p.Morpion()\n",
    "# Configuration initiale\n",
    "config_initiale = {\n",
    "    'plateau': [[' ', ' ', ' '],[' ', ' ', ' '],[' ', ' ', ' ']],\n",
    "    'prochain_joueur': 'J1',\n",
    "    'est_fini': False\n",
    "}\n",
    "print(\"Configuration initiale du Morpion:\", config_initiale)\n",
    "\n",
    "print(\"C'est au tour de\", morpion.joueurCourant(config_initiale))\n",
    "\n",
    "\n",
    "#coup 1\n",
    "coup_joue = (0, 0)\n",
    "nouvelle_config = morpion.joueLeCoup(config_initiale, coup_joue)\n",
    "\n",
    "print(\"Nouvelle configuration après avoir joué le coup\", coup_joue, \":\", nouvelle_config)\n",
    "print(\"Est-ce que la nouvelle configuration est finale ?\", morpion.estFini(nouvelle_config))\n",
    "\n",
    "#coup 2\n",
    "coup_joue = (1, 1)\n",
    "nouvelle_config = morpion.joueLeCoup(nouvelle_config, coup_joue)\n",
    "\n",
    "print(\"Nouvelle configuration après avoir joué le coup\", coup_joue, \":\", nouvelle_config)\n",
    "print(\"Est-ce que la nouvelle configuration est finale ?\", morpion.estFini(nouvelle_config))\n",
    "\n",
    "#coup 3\n",
    "coup_joue = (1, 0)\n",
    "nouvelle_config = morpion.joueLeCoup(config_initiale, coup_joue)\n",
    "\n",
    "print(\"Nouvelle configuration après avoir joué le coup\", coup_joue, \":\", nouvelle_config)\n",
    "print(\"Est-ce que la nouvelle configuration est finale ?\", morpion.estFini(nouvelle_config))\n",
    "\n",
    "#Coup 4\n",
    "coup_joue = (2, 1)\n",
    "nouvelle_config = morpion.joueLeCoup(nouvelle_config, coup_joue)\n",
    "\n",
    "print(\"Nouvelle configuration après avoir joué le coup\", coup_joue, \":\", nouvelle_config)\n",
    "print(\"Est-ce que la nouvelle configuration est finale ?\", morpion.estFini(nouvelle_config))\n",
    "\n",
    "#Coup 5\n",
    "coup_joue = (2, 0)\n",
    "nouvelle_config = morpion.joueLeCoup(config_initiale, coup_joue)\n",
    "\n",
    "print(\"Nouvelle configuration après avoir joué le coup\", coup_joue, \":\", nouvelle_config)\n",
    "print(\"Est-ce que la nouvelle configuration est finale ?\", morpion.estFini(nouvelle_config))\n"
   ]
  },
  {
   "cell_type": "markdown",
   "metadata": {},
   "source": [
    "# Exercice 2"
   ]
  },
  {
   "cell_type": "code",
   "execution_count": 5,
   "metadata": {},
   "outputs": [
    {
     "name": "stdout",
     "output_type": "stream",
     "text": [
      "\n",
      " [' ', ' ', ' '] \n",
      " [' ', ' ', 'J1'] \n",
      " [' ', ' ', ' ']\n",
      "\n",
      " [' ', ' ', 'J2'] \n",
      " [' ', ' ', 'J1'] \n",
      " [' ', ' ', ' ']\n",
      "\n",
      " [' ', 'J1', 'J2'] \n",
      " [' ', ' ', 'J1'] \n",
      " [' ', ' ', ' ']\n",
      "\n",
      " [' ', 'J1', 'J2'] \n",
      " [' ', ' ', 'J1'] \n",
      " [' ', 'J2', ' ']\n",
      "\n",
      " [' ', 'J1', 'J2'] \n",
      " [' ', ' ', 'J1'] \n",
      " ['J1', 'J2', ' ']\n",
      "\n",
      " [' ', 'J1', 'J2'] \n",
      " ['J2', ' ', 'J1'] \n",
      " ['J1', 'J2', ' ']\n",
      "\n",
      " [' ', 'J1', 'J2'] \n",
      " ['J2', ' ', 'J1'] \n",
      " ['J1', 'J2', 'J1']\n",
      "\n",
      " ['J2', 'J1', 'J2'] \n",
      " ['J2', ' ', 'J1'] \n",
      " ['J1', 'J2', 'J1']\n",
      "\n",
      " ['J2', 'J1', 'J2'] \n",
      " ['J2', 'J1', 'J1'] \n",
      " ['J1', 'J2', 'J1']\n",
      "0\n",
      "J2 a gagné\n"
     ]
    }
   ],
   "source": [
    "res = p.morpionAleatoire()\n",
    "print(res)\n",
    "print(\"J1 a gagné\" if res == 1 else \"J2 a gagné\")"
   ]
  },
  {
   "cell_type": "markdown",
   "metadata": {},
   "source": [
    "# Exercice 4"
   ]
  },
  {
   "cell_type": "code",
   "execution_count": 6,
   "metadata": {},
   "outputs": [
    {
     "name": "stdout",
     "output_type": "stream",
     "text": [
      "Configuration initiale du Allumettes: {'plateau': {1: 5, 2: 5, 3: 5}, 'prochain_joueur': 'J1', 'est_fini': False}\n",
      "C'est au tour de J1\n"
     ]
    },
    {
     "ename": "TypeError",
     "evalue": "'int' object does not support item assignment",
     "output_type": "error",
     "traceback": [
      "\u001b[1;31m---------------------------------------------------------------------------\u001b[0m",
      "\u001b[1;31mTypeError\u001b[0m                                 Traceback (most recent call last)",
      "Cell \u001b[1;32mIn[6], line 21\u001b[0m\n\u001b[0;32m     19\u001b[0m \u001b[38;5;66;03m#coup 1\u001b[39;00m\n\u001b[0;32m     20\u001b[0m coup_joue \u001b[38;5;241m=\u001b[39m (\u001b[38;5;241m1\u001b[39m, \u001b[38;5;241m2\u001b[39m)\n\u001b[1;32m---> 21\u001b[0m nouvelle_config \u001b[38;5;241m=\u001b[39m \u001b[43mallumette\u001b[49m\u001b[38;5;241;43m.\u001b[39;49m\u001b[43mjoueLeCoup\u001b[49m\u001b[43m(\u001b[49m\u001b[43mconfig_initiale\u001b[49m\u001b[43m,\u001b[49m\u001b[43m \u001b[49m\u001b[43mcoup_joue\u001b[49m\u001b[43m)\u001b[49m\n\u001b[0;32m     23\u001b[0m \u001b[38;5;28mprint\u001b[39m(\u001b[38;5;124m\"\u001b[39m\u001b[38;5;124mNouvelle configuration après avoir joué le coup\u001b[39m\u001b[38;5;124m\"\u001b[39m, coup_joue, \u001b[38;5;124m\"\u001b[39m\u001b[38;5;124m:\u001b[39m\u001b[38;5;124m\"\u001b[39m, nouvelle_config)\n\u001b[0;32m     24\u001b[0m \u001b[38;5;28mprint\u001b[39m(\u001b[38;5;124m\"\u001b[39m\u001b[38;5;124mEst-ce que la nouvelle configuration est finale ?\u001b[39m\u001b[38;5;124m\"\u001b[39m, allumette\u001b[38;5;241m.\u001b[39mestFini(nouvelle_config))\n",
      "File \u001b[1;32mc:\\Users\\perot\\OneDrive\\Documents\\cours\\M1\\S2\\DJ\\DJ\\projet.py:283\u001b[0m, in \u001b[0;36mAllumettes.joueLeCoup\u001b[1;34m(self, C, coup)\u001b[0m\n\u001b[0;32m    281\u001b[0m joueur_actuel \u001b[38;5;241m=\u001b[39m \u001b[38;5;28mself\u001b[39m\u001b[38;5;241m.\u001b[39mjoueurCourant(C)\n\u001b[0;32m    282\u001b[0m \u001b[38;5;66;03m# Mise à jour du plateau avec le coup joué\u001b[39;00m\n\u001b[1;32m--> 283\u001b[0m \u001b[38;5;28;01mif\u001b[39;00m coup[\u001b[38;5;241m1\u001b[39m]\u001b[38;5;241m<\u001b[39m\u001b[38;5;241m=\u001b[39m C[\u001b[38;5;124m'\u001b[39m\u001b[38;5;124mplateau\u001b[39m\u001b[38;5;124m'\u001b[39m][coup[\u001b[38;5;241m0\u001b[39m]]:\n\u001b[0;32m    284\u001b[0m     nouvelle_configuration[\u001b[38;5;124m'\u001b[39m\u001b[38;5;124mplateau\u001b[39m\u001b[38;5;124m'\u001b[39m][coup[\u001b[38;5;241m0\u001b[39m]] \u001b[38;5;241m-\u001b[39m\u001b[38;5;241m=\u001b[39m coup[\u001b[38;5;241m1\u001b[39m]\n\u001b[0;32m    285\u001b[0m \u001b[38;5;66;03m# Vérification si la partie est terminée après le coup joué\u001b[39;00m\n",
      "\u001b[1;31mTypeError\u001b[0m: 'int' object does not support item assignment"
     ]
    }
   ],
   "source": [
    "# Création d'une instance de jeu de Morpion\n",
    "g=3\n",
    "m=5\n",
    "allumette = p.Allumettes(g,m)\n",
    "# Configuration initiale\n",
    "plat={}\n",
    "for i in range (g):\n",
    "    plat[i+1]=m\n",
    "config_initiale = {\n",
    "    'plateau': plat,\n",
    "    'prochain_joueur': 'J1',\n",
    "    'est_fini': False\n",
    "}\n",
    "print(\"Configuration initiale du Allumettes:\", config_initiale)\n",
    "\n",
    "print(\"C'est au tour de\", allumette.joueurCourant(config_initiale))\n",
    "\n",
    "\n",
    "\n",
    "\n",
    "#coup 1\n",
    "coup_joue = (1, 2)\n",
    "allumette.plateauttt(coup_joue)\n",
    "nouvelle_config = allumette.joueLeCoup(config_initiale, coup_joue)\n",
    "\n",
    "print(\"Nouvelle configuration après avoir joué le coup\", coup_joue, \":\", nouvelle_config)\n",
    "print(\"Est-ce que la nouvelle configuration est finale ?\", allumette.estFini(nouvelle_config))\n"
   ]
  }
 ],
 "metadata": {
  "kernelspec": {
   "display_name": "Python 3",
   "language": "python",
   "name": "python3"
  },
  "language_info": {
   "codemirror_mode": {
    "name": "ipython",
    "version": 3
   },
   "file_extension": ".py",
   "mimetype": "text/x-python",
   "name": "python",
   "nbconvert_exporter": "python",
   "pygments_lexer": "ipython3",
   "version": "3.11.9"
  }
 },
 "nbformat": 4,
 "nbformat_minor": 2
}
