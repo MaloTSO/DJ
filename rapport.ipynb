{
 "cells": [
  {
   "cell_type": "markdown",
   "metadata": {},
   "source": [
    "# Exercice 1"
   ]
  },
  {
   "cell_type": "markdown",
   "metadata": {},
   "source": [
    "## Question 2\n"
   ]
  },
  {
   "cell_type": "code",
   "execution_count": 2,
   "metadata": {},
   "outputs": [
    {
     "name": "stdout",
     "output_type": "stream",
     "text": [
      "\n",
      " [' ', 'J1', ' '] \n",
      " [' ', ' ', ' '] \n",
      " [' ', ' ', ' ']\n",
      "\n",
      " [' ', 'J1', ' '] \n",
      " [' ', ' ', ' '] \n",
      " [' ', 'J2', ' ']\n",
      "\n",
      " [' ', 'J1', ' '] \n",
      " [' ', 'J1', ' '] \n",
      " [' ', 'J2', ' ']\n",
      "\n",
      " [' ', 'J1', ' '] \n",
      " [' ', 'J1', ' '] \n",
      " ['J2', 'J2', ' ']\n",
      "\n",
      " [' ', 'J1', ' '] \n",
      " [' ', 'J1', 'J1'] \n",
      " ['J2', 'J2', ' ']\n",
      "\n",
      " [' ', 'J1', ' '] \n",
      " [' ', 'J1', 'J1'] \n",
      " ['J2', 'J2', 'J2']\n",
      "0\n"
     ]
    }
   ],
   "source": [
    "import projet as p\n",
    "\n"
   ]
  },
  {
   "cell_type": "markdown",
   "metadata": {},
   "source": [
    "\n",
    "Exemple d'utilisation"
   ]
  },
  {
   "cell_type": "code",
   "execution_count": 3,
   "metadata": {},
   "outputs": [
    {
     "name": "stdout",
     "output_type": "stream",
     "text": [
      "Configuration initiale du Morpion: {'plateau': [[' ', ' ', ' '], [' ', ' ', ' '], [' ', ' ', ' ']], 'prochain_joueur': 'J1', 'est_fini': False}\n",
      "C'est au tour de J1\n",
      "Nouvelle configuration après avoir joué le coup (0, 0) : {'plateau': [['J1', ' ', ' '], [' ', ' ', ' '], [' ', ' ', ' ']], 'prochain_joueur': 'J2', 'est_fini': False}\n",
      "Est-ce que la nouvelle configuration est finale ? False\n",
      "Nouvelle configuration après avoir joué le coup (1, 1) : {'plateau': [['J1', ' ', ' '], [' ', 'J2', ' '], [' ', ' ', ' ']], 'prochain_joueur': 'J1', 'est_fini': False}\n",
      "Est-ce que la nouvelle configuration est finale ? False\n",
      "Nouvelle configuration après avoir joué le coup (1, 0) : {'plateau': [['J1', ' ', ' '], ['J1', 'J2', ' '], [' ', ' ', ' ']], 'prochain_joueur': 'J2', 'est_fini': False}\n",
      "Est-ce que la nouvelle configuration est finale ? False\n",
      "Nouvelle configuration après avoir joué le coup (2, 1) : {'plateau': [['J1', ' ', ' '], ['J1', 'J2', ' '], [' ', 'J2', ' ']], 'prochain_joueur': 'J1', 'est_fini': False}\n",
      "Est-ce que la nouvelle configuration est finale ? False\n",
      "Nouvelle configuration après avoir joué le coup (2, 0) : {'plateau': [['J1', ' ', ' '], ['J1', 'J2', ' '], ['J1', 'J2', ' ']], 'prochain_joueur': 'J2', 'est_fini': True}\n",
      "Est-ce que la nouvelle configuration est finale ? True\n"
     ]
    }
   ],
   "source": [
    "# Création d'une instance de jeu de Morpion\n",
    "morpion = p.Morpion()\n",
    "# Configuration initiale\n",
    "config_initiale = {\n",
    "    'plateau': [[' ', ' ', ' '], [' ', ' ', ' '], [' ', ' ', ' ']],\n",
    "    'prochain_joueur': 'J1',\n",
    "    'est_fini': False\n",
    "}\n",
    "print(\"Configuration initiale du Morpion:\", config_initiale)\n",
    "\n",
    "print(\"C'est au tour de\", morpion.joueurCourant(config_initiale));\n",
    "\n",
    "\n",
    "#coup 1\n",
    "coup_joue = (0, 0)\n",
    "nouvelle_config = morpion.joueLeCoup(config_initiale, coup_joue)\n",
    "\n",
    "print(\"Nouvelle configuration après avoir joué le coup\", coup_joue, \":\", nouvelle_config)\n",
    "print(\"Est-ce que la nouvelle configuration est finale ?\", morpion.estFini(nouvelle_config))\n",
    "\n",
    "#coup 2\n",
    "coup_joue = (1, 1)\n",
    "nouvelle_config = morpion.joueLeCoup(nouvelle_config, coup_joue)\n",
    "\n",
    "print(\"Nouvelle configuration après avoir joué le coup\", coup_joue, \":\", nouvelle_config)\n",
    "print(\"Est-ce que la nouvelle configuration est finale ?\", morpion.estFini(nouvelle_config))\n",
    "\n",
    "#coup 3\n",
    "coup_joue = (1, 0)\n",
    "nouvelle_config = morpion.joueLeCoup(config_initiale, coup_joue)\n",
    "\n",
    "print(\"Nouvelle configuration après avoir joué le coup\", coup_joue, \":\", nouvelle_config)\n",
    "print(\"Est-ce que la nouvelle configuration est finale ?\", morpion.estFini(nouvelle_config))\n",
    "\n",
    "#Coup 4\n",
    "coup_joue = (2, 1)\n",
    "nouvelle_config = morpion.joueLeCoup(nouvelle_config, coup_joue)\n",
    "\n",
    "print(\"Nouvelle configuration après avoir joué le coup\", coup_joue, \":\", nouvelle_config)\n",
    "print(\"Est-ce que la nouvelle configuration est finale ?\", morpion.estFini(nouvelle_config))\n",
    "\n",
    "#Coup 5\n",
    "coup_joue = (2, 0)\n",
    "nouvelle_config = morpion.joueLeCoup(config_initiale, coup_joue)\n",
    "\n",
    "print(\"Nouvelle configuration après avoir joué le coup\", coup_joue, \":\", nouvelle_config)\n",
    "print(\"Est-ce que la nouvelle configuration est finale ?\", morpion.estFini(nouvelle_config))\n"
   ]
  },
  {
   "cell_type": "markdown",
   "metadata": {},
   "source": [
    "# Exercice 2"
   ]
  },
  {
   "cell_type": "code",
   "execution_count": 7,
   "metadata": {},
   "outputs": [
    {
     "name": "stdout",
     "output_type": "stream",
     "text": [
      "\n",
      " [' ', ' ', ' '] \n",
      " [' ', ' ', 'J1'] \n",
      " [' ', ' ', ' ']\n",
      "\n",
      " [' ', ' ', ' '] \n",
      " [' ', ' ', 'J1'] \n",
      " [' ', ' ', 'J2']\n",
      "\n",
      " [' ', ' ', ' '] \n",
      " ['J1', ' ', 'J1'] \n",
      " [' ', ' ', 'J2']\n",
      "\n",
      " [' ', ' ', ' '] \n",
      " ['J1', ' ', 'J1'] \n",
      " ['J2', ' ', 'J2']\n",
      "\n",
      " [' ', ' ', ' '] \n",
      " ['J1', ' ', 'J1'] \n",
      " ['J2', 'J1', 'J2']\n",
      "\n",
      " ['J2', ' ', ' '] \n",
      " ['J1', ' ', 'J1'] \n",
      " ['J2', 'J1', 'J2']\n",
      "\n",
      " ['J2', ' ', ' '] \n",
      " ['J1', 'J1', 'J1'] \n",
      " ['J2', 'J1', 'J2']\n",
      "1\n",
      "J1 a gagné\n"
     ]
    }
   ],
   "source": [
    "res = p.morpionAleatoire()\n",
    "print(res)\n",
    "print(\"J1 a gagné\" if res == 1 else \"J2 a gagné\")"
   ]
  }
 ],
 "metadata": {
  "kernelspec": {
   "display_name": "Python 3",
   "language": "python",
   "name": "python3"
  },
  "language_info": {
   "codemirror_mode": {
    "name": "ipython",
    "version": 3
   },
   "file_extension": ".py",
   "mimetype": "text/x-python",
   "name": "python",
   "nbconvert_exporter": "python",
   "pygments_lexer": "ipython3",
   "version": "3.11.9"
  }
 },
 "nbformat": 4,
 "nbformat_minor": 2
}
